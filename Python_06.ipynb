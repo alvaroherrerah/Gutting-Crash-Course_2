{
 "cells": [
  {
   "cell_type": "code",
   "execution_count": 7,
   "id": "initial_id",
   "metadata": {
    "collapsed": true,
    "ExecuteTime": {
     "end_time": "2024-03-04T12:24:38.317297800Z",
     "start_time": "2024-03-04T12:24:38.311675800Z"
    }
   },
   "outputs": [
    {
     "name": "stdout",
     "output_type": "stream",
     "text": [
      "Hola mundo!\n"
     ]
    }
   ],
   "source": [
    "def saludar():\n",
    "    \"\"\"Función imprime mensaje\"\"\"\n",
    "    print(\"Hola mundo!\")\n",
    "    \n",
    "saludar()"
   ]
  },
  {
   "cell_type": "code",
   "outputs": [
    {
     "name": "stdout",
     "output_type": "stream",
     "text": [
      "Hola Eduardo.\n"
     ]
    }
   ],
   "source": [
    "def saludar(nombre):\n",
    "    \"\"\"Saludar nombre\"\"\"\n",
    "    print(f\"Hola {nombre.title()}.\"\"\")\n",
    "    \n",
    "saludar(\"eduardo\")"
   ],
   "metadata": {
    "collapsed": false,
    "ExecuteTime": {
     "end_time": "2024-03-04T13:18:25.882922900Z",
     "start_time": "2024-03-04T13:18:25.875549400Z"
    }
   },
   "id": "e8c5d75685224fdb",
   "execution_count": 10
  },
  {
   "cell_type": "code",
   "outputs": [
    {
     "name": "stdout",
     "output_type": "stream",
     "text": [
      "Mi nommbre es Pepe.\n",
      "Pepe tiene 15 años.\n"
     ]
    }
   ],
   "source": [
    "def nombre_edad(nombre, edad):\n",
    "    \"\"\"Print nombre y edad\"\"\"\n",
    "    print(f\"Mi nommbre es {nombre.title()}.\")\n",
    "    print(f\"{nombre.title()} tiene {str(edad)} años.\")\n",
    "\n",
    "nombre_edad('Pepe', 15)"
   ],
   "metadata": {
    "collapsed": false,
    "ExecuteTime": {
     "end_time": "2024-03-04T13:30:47.791761500Z",
     "start_time": "2024-03-04T13:30:47.784680700Z"
    }
   },
   "id": "aeddb0877532273",
   "execution_count": 13
  },
  {
   "cell_type": "code",
   "outputs": [
    {
     "name": "stdout",
     "output_type": "stream",
     "text": [
      "{'first': 'jimi', 'last': 'hendrix', 'age': 27}\n"
     ]
    }
   ],
   "source": [
    "def build_person(first_name, last_name, age=''):\n",
    "    \"\"\"Return a dictionary of information about a person.\"\"\"\n",
    "    person = {'first': first_name, 'last': last_name}\n",
    "    if age:\n",
    "        person['age'] = age\n",
    "    return person\n",
    "musician = build_person('jimi', 'hendrix', age=27)\n",
    "print(musician)"
   ],
   "metadata": {
    "collapsed": false,
    "ExecuteTime": {
     "end_time": "2024-03-06T11:20:15.985366300Z",
     "start_time": "2024-03-06T11:20:15.963340700Z"
    }
   },
   "id": "72a94410d62c63e2",
   "execution_count": 1
  },
  {
   "cell_type": "code",
   "outputs": [],
   "source": [
    "def nombres_locos(nombre, apellido):\n",
    "    \"\"\"Almacenar en un diccionario\"\"\"\n",
    "    diccionario = {'name': nombre, 'surname': apellido}\n",
    "    return diccionario\n",
    "\n",
    "    "
   ],
   "metadata": {
    "collapsed": false,
    "ExecuteTime": {
     "end_time": "2024-03-06T23:58:34.906049500Z",
     "start_time": "2024-03-06T23:58:34.901463600Z"
    }
   },
   "id": "36f96279604510a4",
   "execution_count": 2
  },
  {
   "cell_type": "code",
   "outputs": [
    {
     "name": "stdout",
     "output_type": "stream",
     "text": [
      "Tus nombres son: {'name': 'Frgt', 'surname': 'Hyte'}.\n",
      "Tus nombres son: {'name': 'Frgt', 'surname': 'Frgth'}.\n"
     ]
    }
   ],
   "source": [
    "while True:\n",
    "    pregunta_1 = input(\"Ingrese su nombre: \")\n",
    "    if pregunta_1 == \"q\":\n",
    "        break\n",
    "    pregunta_2 = input(\"Ingrese su apellido: \")\n",
    "    if pregunta_2 == \"q\":\n",
    "        break\n",
    "    nombres = nombres_locos(pregunta_1.title(), pregunta_2.title())\n",
    "\n",
    "    print(f'Tus nombres son: {nombres}.')"
   ],
   "metadata": {
    "collapsed": false,
    "ExecuteTime": {
     "end_time": "2024-03-07T00:00:14.555670100Z",
     "start_time": "2024-03-07T00:00:03.307283100Z"
    }
   },
   "id": "7b1b68eb1bc88047",
   "execution_count": 6
  },
  {
   "cell_type": "code",
   "outputs": [
    {
     "name": "stdout",
     "output_type": "stream",
     "text": [
      "{'first': 'jimi', 'last': 'hendrix'}\n"
     ]
    }
   ],
   "source": [
    "def build_person(first_name, last_name, age=''):\n",
    "    \"\"\"Return a dictionary of information about a person.\"\"\"\n",
    "    person = {'first': first_name, 'last': last_name}\n",
    "    if age:\n",
    "        person['age'] = age\n",
    "    return person\n",
    "musician = build_person('jimi', 'hendrix')\n",
    "print(musician)"
   ],
   "metadata": {
    "collapsed": false,
    "ExecuteTime": {
     "end_time": "2024-03-07T00:01:15.351533Z",
     "start_time": "2024-03-07T00:01:15.349849Z"
    }
   },
   "id": "a86c1f6ba953e0e9",
   "execution_count": 7
  },
  {
   "cell_type": "code",
   "outputs": [
    {
     "name": "stdout",
     "output_type": "stream",
     "text": [
      "Saludos Hannah pasa buen día.\n",
      "Saludos Ty pasa buen día.\n",
      "Saludos Margot pasa buen día.\n"
     ]
    }
   ],
   "source": [
    "def saludos(usuarios):\n",
    "    for nombre in usuarios:\n",
    "        print(f'Saludos {nombre.title()} pasa buen día.')\n",
    "\n",
    "usernames = ['hannah', 'ty', 'margot']\n",
    "saludos(usernames)"
   ],
   "metadata": {
    "collapsed": false,
    "ExecuteTime": {
     "end_time": "2024-03-07T00:05:00.509611500Z",
     "start_time": "2024-03-07T00:05:00.506343700Z"
    }
   },
   "id": "375b7787fa300a33",
   "execution_count": 10
  },
  {
   "cell_type": "code",
   "outputs": [
    {
     "name": "stdout",
     "output_type": "stream",
     "text": [
      "['dodecahedron', 'robot pendant', 'iphone case']\n",
      "[]\n"
     ]
    }
   ],
   "source": [
    "unprinted_designs = ['iphone case', 'robot pendant', 'dodecahedron']\n",
    "completed_models = []\n",
    "\n",
    "def moviendito(lista):\n",
    "        current_case= lista.pop()\n",
    "        return current_case\n",
    "\n",
    "while unprinted_designs:\n",
    "    current_design = moviendito(unprinted_designs[:]) #[:] nos permite mantener los valores en la lista original\n",
    "    completed_models.append(current_design)\n",
    "    if len(completed_models) == 3:\n",
    "        break\n",
    "print(completed_models)\n",
    "print(unprinted_designs)\n"
   ],
   "metadata": {
    "collapsed": false,
    "ExecuteTime": {
     "end_time": "2024-03-07T00:29:26.316014600Z",
     "start_time": "2024-03-07T00:29:26.308568900Z"
    }
   },
   "id": "d37646e7f0b4166e",
   "execution_count": 23
  },
  {
   "cell_type": "code",
   "outputs": [
    {
     "name": "stdout",
     "output_type": "stream",
     "text": [
      "Los ingredientes son:\n",
      "-Mushrooms\n",
      "-Green Peppers\n",
      "-Extra Cheese\n"
     ]
    }
   ],
   "source": [
    "def pinta(*pintaa):   #para crear una tupla \n",
    "    print('Los ingredientes son:')\n",
    "    for pinte in pintaa:\n",
    "        print(f'-{pinte.title()}')\n",
    "    \n",
    "pinta('mushrooms', 'green peppers', 'extra cheese')\n"
   ],
   "metadata": {
    "collapsed": false,
    "ExecuteTime": {
     "end_time": "2024-03-07T00:36:51.139519500Z",
     "start_time": "2024-03-07T00:36:51.136984100Z"
    }
   },
   "id": "eddeff43ae1a120f",
   "execution_count": 28
  },
  {
   "cell_type": "code",
   "outputs": [
    {
     "data": {
      "text/plain": "{'nombre': 'albert',\n 'apellido': 'einstein',\n 'location': 'princeton',\n 'field': 'physics'}"
     },
     "execution_count": 1,
     "metadata": {},
     "output_type": "execute_result"
    }
   ],
   "source": [
    "def build_profile (first_name, last_name, **any_data):\n",
    "    almacen = {}\n",
    "    almacen['nombre'] = first_name\n",
    "    almacen['apellido'] = last_name\n",
    "    for key, valor in any_data.items():\n",
    "        almacen[key] = valor\n",
    "    return almacen\n",
    "\n",
    "build_profile('albert', 'einstein',\n",
    "location='princeton',\n",
    "field='physics')\n",
    "        \n",
    "        "
   ],
   "metadata": {
    "collapsed": false,
    "ExecuteTime": {
     "end_time": "2024-03-07T11:25:07.799402100Z",
     "start_time": "2024-03-07T11:25:07.783340400Z"
    }
   },
   "id": "464030237c88dfa8",
   "execution_count": 1
  },
  {
   "cell_type": "code",
   "outputs": [
    {
     "data": {
      "text/plain": "13"
     },
     "execution_count": 12,
     "metadata": {},
     "output_type": "execute_result"
    }
   ],
   "source": [
    "# calculadora para sumas\n",
    "def suma(primer_numero, *resto_numero):\n",
    "    \"\"\"Calculadora de suma\"\"\"\n",
    "    for numero in resto_numero:\n",
    "        primer_numero += numero\n",
    "    return primer_numero\n"
   ],
   "metadata": {
    "collapsed": false,
    "ExecuteTime": {
     "end_time": "2024-03-07T11:47:26.038632Z",
     "start_time": "2024-03-07T11:47:26.017826900Z"
    }
   },
   "id": "915d738d62c8c107",
   "execution_count": 12
  },
  {
   "cell_type": "code",
   "outputs": [
    {
     "data": {
      "text/plain": "<function sum(iterable, /, start=0)>"
     },
     "execution_count": 17,
     "metadata": {},
     "output_type": "execute_result"
    }
   ],
   "source": [
    "from Calculadora import suma as suma_calc\n",
    "from Calculadora import *\n",
    "import Calculadora as hola"
   ],
   "metadata": {
    "collapsed": false,
    "ExecuteTime": {
     "end_time": "2024-03-07T12:57:33.061222600Z",
     "start_time": "2024-03-07T12:57:33.035649100Z"
    }
   },
   "id": "c063d8420a2eaea4",
   "execution_count": 17
  }
 ],
 "metadata": {
  "kernelspec": {
   "display_name": "Python 3",
   "language": "python",
   "name": "python3"
  },
  "language_info": {
   "codemirror_mode": {
    "name": "ipython",
    "version": 2
   },
   "file_extension": ".py",
   "mimetype": "text/x-python",
   "name": "python",
   "nbconvert_exporter": "python",
   "pygments_lexer": "ipython2",
   "version": "2.7.6"
  }
 },
 "nbformat": 4,
 "nbformat_minor": 5
}
