{
 "cells": [
  {
   "cell_type": "code",
   "outputs": [
    {
     "name": "stdout",
     "output_type": "stream",
     "text": [
      "Encantado Lopez\n"
     ]
    }
   ],
   "source": [
    "prompt = \"Quiero personalizar tus mensajes\"\n",
    "prompt += \"\\nEscriba su nombre: \"\n",
    "\n",
    "nombre = input(prompt)\n",
    "\n",
    "print(f\"Encantado {nombre.title()}\")\n"
   ],
   "metadata": {
    "collapsed": false,
    "ExecuteTime": {
     "end_time": "2024-03-03T10:57:44.525188Z",
     "start_time": "2024-03-03T10:57:42.157257Z"
    }
   },
   "id": "2d184cf42e518fd",
   "execution_count": 3
  },
  {
   "cell_type": "code",
   "outputs": [
    {
     "name": "stdout",
     "output_type": "stream",
     "text": [
      "Encantado 14\n"
     ]
    }
   ],
   "source": [
    "prompt = \"Quiero personalizar tus mensajes\"\n",
    "prompt += \"\\nEscriba su nombre: \"\n",
    "# defendemos la naturaleza int de nombre\n",
    "nombre = int(input(prompt))\n",
    "# permitimos la adición de funciones chr con str\n",
    "print(f\"Encantado {str(nombre).title()}\") "
   ],
   "metadata": {
    "collapsed": false,
    "ExecuteTime": {
     "end_time": "2024-03-03T10:57:58.675351Z",
     "start_time": "2024-03-03T10:57:56.614585200Z"
    }
   },
   "id": "e57917b29851acb0",
   "execution_count": 6
  },
  {
   "cell_type": "code",
   "outputs": [],
   "source": [
    "# detector de pares (versión poco eficiente)\n",
    "numero = int(input(\"Elige el número que desea ingresar: \"))\n",
    "\n",
    "if numero % 2 == 0:\n",
    "    print(f\"\\nEl número: {str(numero)} es par.\")\n",
    "\n",
    "elif numero % 2 != 0:\n",
    "    while numero != 0:\n",
    "        if numero % 2 != 0:\n",
    "            print(f\"\\nEl numero: {str(numero)} no es par.\")\n",
    "            numero = int(input(\"Elige otro número: \"))\n",
    "        elif numero % 2 == 0:\n",
    "            print(f\"\\nEl numero: {str(numero)} es par.\")\n",
    "            break"
   ],
   "metadata": {
    "collapsed": false,
    "ExecuteTime": {
     "start_time": "2024-03-03T10:57:46.376886800Z"
    }
   },
   "id": "cc3692afeb6b40ed",
   "execution_count": null
  },
  {
   "cell_type": "code",
   "outputs": [],
   "source": [
    "numero = 0\n",
    "while numero < 10:\n",
    "    numero += 1\n",
    "print(numero)"
   ],
   "metadata": {
    "collapsed": false,
    "ExecuteTime": {
     "start_time": "2024-03-03T10:57:46.377914700Z"
    }
   },
   "id": "79959da708be22ee",
   "execution_count": null
  },
  {
   "cell_type": "code",
   "outputs": [],
   "source": [
    "\n",
    "activation = True\n",
    "\n",
    "while activation:\n",
    "    message = input()\n",
    "    print(f'El mensaje fue: {message.title()}.')\n",
    "    \n",
    "    if message == 'quit':\n",
    "        activation = False\n",
    "        \n"
   ],
   "metadata": {
    "collapsed": false,
    "ExecuteTime": {
     "start_time": "2024-03-03T10:57:46.378913600Z"
    }
   },
   "id": "5665d6fb8d547df1",
   "execution_count": null
  },
  {
   "cell_type": "code",
   "outputs": [],
   "source": [
    "# detector de pares forma mucho más eficiente que la anterior\n",
    "# activation = True\n",
    "while True: #activation#\n",
    "    message = int(input(\"Dime un número: \"))\n",
    "    if message % 2 == 0:\n",
    "        print(f\"\\nEl número: {str(message)} es par.\")\n",
    "        break #activation = False#\n",
    "    elif message % 2 != 0:\n",
    "        print(f\"\\nEl número {str(message)} no es par.\")\n",
    "        print(\"Dime otro número.\")"
   ],
   "metadata": {
    "collapsed": false,
    "ExecuteTime": {
     "start_time": "2024-03-03T10:57:46.379939200Z"
    }
   },
   "id": "34d9546499b10591",
   "execution_count": null
  },
  {
   "cell_type": "code",
   "outputs": [
    {
     "name": "stdout",
     "output_type": "stream",
     "text": [
      "1\n",
      "3\n",
      "5\n",
      "7\n",
      "9\n"
     ]
    }
   ],
   "source": [
    "numero = 0\n",
    "\n",
    "while numero < 10:\n",
    "    numero += 1\n",
    "    if numero % 2 == 0:\n",
    "        continue\n",
    "    print(numero)"
   ],
   "metadata": {
    "collapsed": false,
    "ExecuteTime": {
     "end_time": "2024-03-03T10:57:46.413352900Z",
     "start_time": "2024-03-03T10:57:46.401222300Z"
    }
   },
   "id": "ea5bc6a140a4c957",
   "execution_count": 5
  },
  {
   "cell_type": "code",
   "outputs": [
    {
     "name": "stdout",
     "output_type": "stream",
     "text": [
      "Verificando a: Candace.\n",
      "Verificando a: Brian.\n",
      "Verificando a: Alice.\n",
      "Los usuarios confirmados son:\n",
      "Candace\n",
      "Brian\n",
      "Alice\n"
     ]
    }
   ],
   "source": [
    "unconfirmed_users = ['alice', 'brian', 'candace']\n",
    "confirmed_users = []\n",
    "\n",
    "while unconfirmed_users:\n",
    "    current_user = unconfirmed_users.pop()\n",
    "    confirmed_users.append(current_user)\n",
    "    print(f\"Verificando a: {current_user.title()}.\")\n",
    "print(f\"Los usuarios confirmados son:\")\n",
    "for confirm in confirmed_users:\n",
    "    print(confirm.title())"
   ],
   "metadata": {
    "collapsed": false,
    "ExecuteTime": {
     "end_time": "2024-03-03T20:05:36.973848100Z",
     "start_time": "2024-03-03T20:05:36.967313200Z"
    }
   },
   "id": "b6cf50e28f6518e8",
   "execution_count": 6
  },
  {
   "cell_type": "code",
   "outputs": [
    {
     "name": "stdout",
     "output_type": "stream",
     "text": [
      "['dog', 'dog', 'goldfish', 'rabbit']\n"
     ]
    }
   ],
   "source": [
    "pets = ['dog', 'cat', 'dog', 'goldfish', 'cat', 'rabbit', 'cat']\n",
    "\n",
    "while 'cat' in pets:\n",
    "    pets.remove('cat')\n",
    "\n",
    "print(pets)"
   ],
   "metadata": {
    "collapsed": false,
    "ExecuteTime": {
     "end_time": "2024-03-03T21:02:39.768107700Z",
     "start_time": "2024-03-03T21:02:39.761432400Z"
    }
   },
   "id": "5055e295ab9e2478",
   "execution_count": 13
  },
  {
   "cell_type": "code",
   "outputs": [
    {
     "name": "stdout",
     "output_type": "stream",
     "text": [
      "\n",
      "Primer participante: David\n",
      "Su edad es: 78\n",
      "Y S quiere que otro participante siga.\n",
      "\n",
      "Primer participante: Juena\n",
      "Su edad es: 54\n",
      "Y N quiere que otro participante siga.\n",
      "\n",
      "Nombre:David y edad: 78\n",
      "\n",
      "\n",
      "Nombre:Juena y edad: 54\n"
     ]
    }
   ],
   "source": [
    "respuesta = {}\n",
    "\n",
    "while True:\n",
    "    datos = input(f'Tu nombre: ')\n",
    "    pregunta = int(input(f'Dime tu edad: '))\n",
    "    respuesta[datos] = pregunta\n",
    "    \n",
    "    segunda = input('Desea que otro continue? [S/N]')\n",
    "\n",
    "    print(f'\\nPrimer participante: {datos.title()}\\n'\n",
    "          f'Su edad es: {pregunta}\\n'\n",
    "          f'Y {segunda} quiere que otro participante siga.')\n",
    "    \n",
    "    if segunda == 'N' or segunda == 'n':\n",
    "     break\n",
    "\n",
    "for datos, pregunta in respuesta.items():\n",
    "    print(f'\\nNombre: {datos} y edad: {pregunta}\\n')"
   ],
   "metadata": {
    "collapsed": false,
    "ExecuteTime": {
     "end_time": "2024-03-03T21:24:24.512614500Z",
     "start_time": "2024-03-03T21:24:11.517901600Z"
    }
   },
   "id": "95984f5b6886ece3",
   "execution_count": 6
  },
  {
   "cell_type": "code",
   "outputs": [],
   "source": [],
   "metadata": {
    "collapsed": false
   },
   "id": "9909a4ad7e360b1e"
  }
 ],
 "metadata": {
  "kernelspec": {
   "display_name": "Python 3",
   "language": "python",
   "name": "python3"
  },
  "language_info": {
   "codemirror_mode": {
    "name": "ipython",
    "version": 2
   },
   "file_extension": ".py",
   "mimetype": "text/x-python",
   "name": "python",
   "nbconvert_exporter": "python",
   "pygments_lexer": "ipython2",
   "version": "2.7.6"
  }
 },
 "nbformat": 4,
 "nbformat_minor": 5
}
